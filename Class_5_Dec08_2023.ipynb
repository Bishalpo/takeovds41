{
  "nbformat": 4,
  "nbformat_minor": 0,
  "metadata": {
    "colab": {
      "provenance": [],
      "authorship_tag": "ABX9TyPZy7JZ63HMruyk/VhY1cu/",
      "include_colab_link": true
    },
    "kernelspec": {
      "name": "python3",
      "display_name": "Python 3"
    },
    "language_info": {
      "name": "python"
    }
  },
  "cells": [
    {
      "cell_type": "markdown",
      "metadata": {
        "id": "view-in-github",
        "colab_type": "text"
      },
      "source": [
        "<a href=\"https://colab.research.google.com/github/Bishalpo/takeovds41/blob/main/Class_5_Dec08_2023.ipynb\" target=\"_parent\"><img src=\"https://colab.research.google.com/assets/colab-badge.svg\" alt=\"Open In Colab\"/></a>"
      ]
    },
    {
      "cell_type": "code",
      "execution_count": null,
      "metadata": {
        "colab": {
          "base_uri": "https://localhost:8080/"
        },
        "id": "b9cR3QGNNv0R",
        "outputId": "71bb057a-af6f-4a63-991b-08e94a6297e4"
      },
      "outputs": [
        {
          "output_type": "stream",
          "name": "stdout",
          "text": [
            "^ ^ ^ ^ ^ ^ ^ ^ ^ ^ ^ ^ ^ ^ ^ ^ ^ ^ ^ ^  \n",
            "^ ^ ^ ^ ^ ^ ^ ^ ^ ^ ^ ^ ^ ^ ^ ^ ^ ^ ^ ^  \n",
            "^ ^ ^ ^ ^ ^ ^ ^ ^ ^ ^ ^ ^ ^ ^ ^ ^ ^ ^ ^  \n",
            "^ ^ ^ ^ ^ ^ ^ ^ ^ ^ ^ ^ ^ ^ ^ ^ ^ ^ ^ ^  \n",
            "^ ^ ^ ^ ^ ^ ^ ^ ^ ^ ^ ^ ^ ^ ^ ^ ^ ^ ^ ^  \n",
            "^ ^ ^ ^ ^ ^ ^ ^ ^ ^ ^ ^ ^ ^ ^ ^ ^ ^ ^ ^  \n",
            "^ ^ ^ ^ ^ ^ ^ ^ ^ ^ ^ ^ ^ ^ ^ ^ ^ ^ ^ ^  \n",
            "^ ^ ^ ^ ^ ^ ^ ^ ^ ^ ^ ^ ^ ^ ^ ^ ^ ^ ^ ^  \n",
            "^ ^ ^ ^ ^ ^ ^ ^ ^ ^ ^ ^ ^ ^ ^ ^ ^ ^ ^ ^  \n",
            "^ ^ ^ ^ ^ ^ ^ ^ ^ ^ ^ ^ ^ ^ ^ ^ ^ ^ ^ ^  \n"
          ]
        }
      ],
      "source": [
        "# rectancle with 10 rows and 20 column size\n",
        "for i in range (10):\n",
        "  for j in range (20):\n",
        "    print ('^', end=' ')\n",
        "  print(' ')\n",
        "\n"
      ]
    },
    {
      "cell_type": "code",
      "source": [
        "# triangle with 10 rows\n",
        "for i in range(10):\n",
        "  for j in range(i+1):\n",
        "    print('*', end=' ')\n",
        "  print('')"
      ],
      "metadata": {
        "colab": {
          "base_uri": "https://localhost:8080/"
        },
        "id": "ZqAyvhjEP3JV",
        "outputId": "e836cb57-ab36-46d0-a1ea-16b97203dc44"
      },
      "execution_count": null,
      "outputs": [
        {
          "output_type": "stream",
          "name": "stdout",
          "text": [
            "* \n",
            "* * \n",
            "* * * \n",
            "* * * * \n",
            "* * * * * \n",
            "* * * * * * \n",
            "* * * * * * * \n",
            "* * * * * * * * \n",
            "* * * * * * * * * \n",
            "* * * * * * * * * * \n"
          ]
        }
      ]
    },
    {
      "cell_type": "code",
      "source": [
        "for i in range(10):\n",
        "  for j in range (10-i):\n",
        "    print ('', end=' ')\n",
        "  for k in range (i+1):\n",
        "    print('*', end='   ')\n",
        "  print()"
      ],
      "metadata": {
        "colab": {
          "base_uri": "https://localhost:8080/"
        },
        "id": "W8hhSj2HTRkb",
        "outputId": "a95889dc-9b57-43ca-fd85-5b810952db77"
      },
      "execution_count": null,
      "outputs": [
        {
          "output_type": "stream",
          "name": "stdout",
          "text": [
            "          *   \n",
            "         *   *   \n",
            "        *   *   *   \n",
            "       *   *   *   *   \n",
            "      *   *   *   *   *   \n",
            "     *   *   *   *   *   *   \n",
            "    *   *   *   *   *   *   *   \n",
            "   *   *   *   *   *   *   *   *   \n",
            "  *   *   *   *   *   *   *   *   *   \n",
            " *   *   *   *   *   *   *   *   *   *   \n"
          ]
        }
      ]
    },
    {
      "cell_type": "code",
      "source": [
        "i = 1\n",
        "a = 0\n",
        "\n",
        "while i < 101: # 1, 2, 3, 4, 5... 99, 100 # False\n",
        "  a += i # 1, 3, 6, 10, 15.... 5050\n",
        "  i += 1 # 2, 3, 4, 5, 6, 100, 101\n",
        "print(a)"
      ],
      "metadata": {
        "colab": {
          "base_uri": "https://localhost:8080/"
        },
        "id": "b_N39_LxWrJf",
        "outputId": "8024c201-2b90-4643-a297-cf85a84d5b10"
      },
      "execution_count": null,
      "outputs": [
        {
          "output_type": "stream",
          "name": "stdout",
          "text": [
            "5050\n"
          ]
        }
      ]
    },
    {
      "cell_type": "code",
      "source": [
        "i=1\n",
        "\n",
        "\n",
        "while i<=10:\n",
        "  print (i)\n",
        "  i +=1\n",
        "\n",
        "\n"
      ],
      "metadata": {
        "colab": {
          "base_uri": "https://localhost:8080/"
        },
        "id": "9v5lRF-FXI0Y",
        "outputId": "00e761c2-3129-4d9e-9586-de5fdc9d8812"
      },
      "execution_count": null,
      "outputs": [
        {
          "output_type": "stream",
          "name": "stdout",
          "text": [
            "1\n",
            "2\n",
            "3\n",
            "4\n",
            "5\n",
            "6\n",
            "7\n",
            "8\n",
            "9\n",
            "10\n"
          ]
        }
      ]
    },
    {
      "cell_type": "code",
      "source": [
        "i=0\n",
        "j=0\n",
        "\n",
        "while i<5:\n",
        "  i+=1\n",
        "  print('*', end=' ')\n",
        "  while j<5:\n",
        "    j+=1\n",
        "    print('*', end=' ')\n",
        "    print()\n"
      ],
      "metadata": {
        "colab": {
          "base_uri": "https://localhost:8080/"
        },
        "id": "tYJ7WheXaD1x",
        "outputId": "228ba31d-025b-4d4c-bec6-3f6654f804ec"
      },
      "execution_count": null,
      "outputs": [
        {
          "output_type": "stream",
          "name": "stdout",
          "text": [
            "* * \n",
            "* \n",
            "* \n",
            "* \n",
            "* \n",
            "* * * * "
          ]
        }
      ]
    },
    {
      "cell_type": "code",
      "source": [
        "while i ==10:\n",
        "    while j==10:\n",
        "    print('[',i,'-',j,']', end ='')\n",
        "print ()"
      ],
      "metadata": {
        "colab": {
          "base_uri": "https://localhost:8080/",
          "height": 140
        },
        "id": "RgUZ_6hnncf5",
        "outputId": "2357b78c-9408-48d8-cbaa-b1a53e340ea9"
      },
      "execution_count": null,
      "outputs": [
        {
          "output_type": "error",
          "ename": "IndentationError",
          "evalue": "ignored",
          "traceback": [
            "\u001b[0;36m  File \u001b[0;32m\"<ipython-input-11-2bf55720732f>\"\u001b[0;36m, line \u001b[0;32m3\u001b[0m\n\u001b[0;31m    print('[',i,'-',j']', end ())\u001b[0m\n\u001b[0m    ^\u001b[0m\n\u001b[0;31mIndentationError\u001b[0m\u001b[0;31m:\u001b[0m expected an indented block after 'while' statement on line 2\n"
          ]
        }
      ]
    },
    {
      "cell_type": "code",
      "source": [
        "i=0\n",
        "j=0\n",
        "while i<10:\n",
        "    j= 0\n",
        "    while j<10:\n",
        "        print('[',i,'-',j,']', end ='')\n",
        "        J+=1\n",
        "    print()\n",
        "    i+=1\n"
      ],
      "metadata": {
        "colab": {
          "base_uri": "https://localhost:8080/",
          "height": 262
        },
        "id": "JORQDF8roOBA",
        "outputId": "6074948e-024b-4015-9171-efabd5c7d023"
      },
      "execution_count": null,
      "outputs": [
        {
          "output_type": "stream",
          "name": "stdout",
          "text": [
            "[ 0 - 0 ]"
          ]
        },
        {
          "output_type": "error",
          "ename": "NameError",
          "evalue": "ignored",
          "traceback": [
            "\u001b[0;31m---------------------------------------------------------------------------\u001b[0m",
            "\u001b[0;31mNameError\u001b[0m                                 Traceback (most recent call last)",
            "\u001b[0;32m<ipython-input-14-fb35505fe2b6>\u001b[0m in \u001b[0;36m<cell line: 3>\u001b[0;34m()\u001b[0m\n\u001b[1;32m      5\u001b[0m     \u001b[0;32mwhile\u001b[0m \u001b[0mj\u001b[0m\u001b[0;34m<\u001b[0m\u001b[0;36m10\u001b[0m\u001b[0;34m:\u001b[0m\u001b[0;34m\u001b[0m\u001b[0;34m\u001b[0m\u001b[0m\n\u001b[1;32m      6\u001b[0m         \u001b[0mprint\u001b[0m\u001b[0;34m(\u001b[0m\u001b[0;34m'['\u001b[0m\u001b[0;34m,\u001b[0m\u001b[0mi\u001b[0m\u001b[0;34m,\u001b[0m\u001b[0;34m'-'\u001b[0m\u001b[0;34m,\u001b[0m\u001b[0mj\u001b[0m\u001b[0;34m,\u001b[0m\u001b[0;34m']'\u001b[0m\u001b[0;34m,\u001b[0m \u001b[0mend\u001b[0m \u001b[0;34m=\u001b[0m\u001b[0;34m''\u001b[0m\u001b[0;34m)\u001b[0m\u001b[0;34m\u001b[0m\u001b[0;34m\u001b[0m\u001b[0m\n\u001b[0;32m----> 7\u001b[0;31m         \u001b[0mJ\u001b[0m\u001b[0;34m+=\u001b[0m\u001b[0;36m1\u001b[0m\u001b[0;34m\u001b[0m\u001b[0;34m\u001b[0m\u001b[0m\n\u001b[0m\u001b[1;32m      8\u001b[0m     \u001b[0mprint\u001b[0m\u001b[0;34m(\u001b[0m\u001b[0;34m)\u001b[0m\u001b[0;34m\u001b[0m\u001b[0;34m\u001b[0m\u001b[0m\n\u001b[1;32m      9\u001b[0m     \u001b[0mi\u001b[0m\u001b[0;34m+=\u001b[0m\u001b[0;36m1\u001b[0m\u001b[0;34m\u001b[0m\u001b[0;34m\u001b[0m\u001b[0m\n",
            "\u001b[0;31mNameError\u001b[0m: name 'J' is not defined"
          ]
        }
      ]
    },
    {
      "cell_type": "code",
      "source": [
        "print (\"This is line 1. \\nThis is line 2.\")"
      ],
      "metadata": {
        "colab": {
          "base_uri": "https://localhost:8080/"
        },
        "id": "Qw1Slr_1a8CE",
        "outputId": "d15ea1c2-1fe8-4c31-efad-ac5cefd67b99"
      },
      "execution_count": null,
      "outputs": [
        {
          "output_type": "stream",
          "name": "stdout",
          "text": [
            "This is line 1. \n",
            "This is line 2.\n"
          ]
        }
      ]
    },
    {
      "cell_type": "code",
      "source": [
        "i=1\n",
        "while i <=5:\n",
        "    print(i)\n",
        "    i +=1"
      ],
      "metadata": {
        "colab": {
          "base_uri": "https://localhost:8080/"
        },
        "id": "mlt929rbX0lT",
        "outputId": "859011d5-bd76-4c17-8c09-44a8f36d403b"
      },
      "execution_count": null,
      "outputs": [
        {
          "output_type": "stream",
          "name": "stdout",
          "text": [
            "1\n",
            "2\n",
            "3\n",
            "4\n",
            "5\n"
          ]
        }
      ]
    },
    {
      "cell_type": "code",
      "source": [
        "prompt= \"\\nTell me something, and I will repeat it back to you.\"\n",
        "prompt +=\"\\nEnter 'quit' to end the program\"\n",
        "\n",
        "message=\"\"\n",
        "while message !='quit':\n",
        "    message= input(prompt)\n",
        "    print(message)\n",
        "#this while loop keeps on running unless the message is 'quit'"
      ],
      "metadata": {
        "id": "4PMBqiHlaYwU"
      },
      "execution_count": null,
      "outputs": []
    },
    {
      "cell_type": "code",
      "source": [
        "prompt= \"\\nTell me something, and I will repeat it back to you.\"\n",
        "prompt +=\"\\nEnter 'quit' to end the program\"\n",
        "\n",
        "message=\"\"\n",
        "while message =='quit':\n",
        "    message= input(prompt)\n",
        "    print(message)"
      ],
      "metadata": {
        "id": "1r5p4KnwdRWD"
      },
      "execution_count": null,
      "outputs": []
    },
    {
      "cell_type": "code",
      "source": [
        "prompt= \"\\nTell me something, and I will repeat it back to you.\"\n",
        "prompt +=\"\\nEnter 'quit' to end the program\"\n",
        "\n",
        "message=\"quit\"\n",
        "while message !='quit':\n",
        "    message= input(prompt)\n",
        "    print(message)"
      ],
      "metadata": {
        "id": "Tj3EeWHYd3kc"
      },
      "execution_count": null,
      "outputs": []
    },
    {
      "cell_type": "code",
      "source": [
        "prompt= \"\\nTell me something, and I will repeat it back to you.\"\n",
        "prompt +=\"\\nEnter 'quit' to end the program\"\n",
        "\n",
        "active= True\n",
        "\n",
        "while active:\n",
        "    message= input(prompt)\n",
        "\n",
        "    if message=='quit':\n",
        "        active:False\n",
        "    else:\n",
        "        print(message)\n"
      ],
      "metadata": {
        "id": "fz3wFh2_hQtN"
      },
      "execution_count": null,
      "outputs": []
    },
    {
      "cell_type": "code",
      "source": [
        "prompt= \"\\nTell me something, and I will repeat it back to you.\"\n",
        "prompt +=\"\\nEnter 'quit' to end the program\"\n",
        "\n",
        "active= False\n",
        "\n",
        "while active:\n",
        "    message= input(prompt)\n",
        "\n",
        "    if message=='quit':\n",
        "        active:False\n",
        "    else:\n",
        "        print(message)\n"
      ],
      "metadata": {
        "id": "bmuusmLoheiR"
      },
      "execution_count": null,
      "outputs": []
    },
    {
      "cell_type": "code",
      "source": [
        "i=0\n",
        "\n",
        "while i<=10:\n",
        "    i+=1\n",
        "    print(i)"
      ],
      "metadata": {
        "colab": {
          "base_uri": "https://localhost:8080/"
        },
        "id": "K-4DiiGDiCtJ",
        "outputId": "29b1eab3-363f-4aa5-cf16-69f194e336c7"
      },
      "execution_count": null,
      "outputs": [
        {
          "output_type": "stream",
          "name": "stdout",
          "text": [
            "1\n",
            "2\n",
            "3\n",
            "4\n",
            "5\n",
            "6\n",
            "7\n",
            "8\n",
            "9\n",
            "10\n",
            "11\n"
          ]
        }
      ]
    },
    {
      "cell_type": "code",
      "source": [
        "#  consider a loop that counts from 1 to 10 but prints only the odd numbers in that range:\n",
        "\n",
        "i=0\n",
        "\n",
        "while i<10:\n",
        "    i+=1\n",
        "    if i%2==0:\n",
        "        continue\n",
        "    print(i)"
      ],
      "metadata": {
        "colab": {
          "base_uri": "https://localhost:8080/"
        },
        "id": "_kP8qdgdgRaW",
        "outputId": "f70ff8fd-6344-46ad-8249-cf75c74a693f"
      },
      "execution_count": null,
      "outputs": [
        {
          "output_type": "stream",
          "name": "stdout",
          "text": [
            "1\n",
            "3\n",
            "5\n",
            "7\n",
            "9\n"
          ]
        }
      ]
    },
    {
      "cell_type": "code",
      "source": [
        "#  consider a loop that counts from 1 to 10 but prints only the even numbers in that range:\n",
        "\n",
        "i=0\n",
        "\n",
        "while i <10:\n",
        "    i+=1\n",
        "    if i%2==1:\n",
        "        continue\n",
        "    print(i)"
      ],
      "metadata": {
        "colab": {
          "base_uri": "https://localhost:8080/"
        },
        "id": "AFFU1btpjVep",
        "outputId": "645badff-ba0c-481f-9d5d-706107a59509"
      },
      "execution_count": null,
      "outputs": [
        {
          "output_type": "stream",
          "name": "stdout",
          "text": [
            "2\n",
            "4\n",
            "6\n",
            "8\n",
            "10\n"
          ]
        }
      ]
    },
    {
      "cell_type": "code",
      "source": [
        "x=1\n",
        "while x<=5:\n",
        "    print(x)\n",
        "    x+=1\n"
      ],
      "metadata": {
        "colab": {
          "base_uri": "https://localhost:8080/"
        },
        "id": "Hu-V7B86lKJb",
        "outputId": "ba612cd4-da1a-46e7-d5cd-5cdbf2744989"
      },
      "execution_count": null,
      "outputs": [
        {
          "output_type": "stream",
          "name": "stdout",
          "text": [
            "1\n",
            "2\n",
            "3\n",
            "4\n"
          ]
        }
      ]
    },
    {
      "cell_type": "code",
      "source": [
        "x=0\n",
        "\n",
        "while x<=10:\n",
        "    print(x)\n",
        "    x+=1"
      ],
      "metadata": {
        "colab": {
          "base_uri": "https://localhost:8080/"
        },
        "id": "JdWCW-zli0zc",
        "outputId": "b10a271d-3270-4d74-a502-cf1306adf621"
      },
      "execution_count": null,
      "outputs": [
        {
          "output_type": "stream",
          "name": "stdout",
          "text": [
            "0\n",
            "1\n",
            "2\n",
            "3\n",
            "4\n",
            "5\n",
            "6\n",
            "7\n",
            "8\n",
            "9\n",
            "10\n"
          ]
        }
      ]
    },
    {
      "cell_type": "code",
      "source": [
        "i=0\n",
        "\n",
        "while i<=10:\n",
        "    i+=1\n",
        "    print(i)"
      ],
      "metadata": {
        "colab": {
          "base_uri": "https://localhost:8080/"
        },
        "id": "MjI27cc8nFua",
        "outputId": "dff887d8-49e7-4ae0-bcff-561e36aaaa4c"
      },
      "execution_count": null,
      "outputs": [
        {
          "output_type": "stream",
          "name": "stdout",
          "text": [
            "1\n",
            "2\n",
            "3\n",
            "4\n",
            "5\n",
            "6\n",
            "7\n",
            "8\n",
            "9\n",
            "10\n",
            "11\n"
          ]
        }
      ]
    },
    {
      "cell_type": "code",
      "source": [
        "i=0\n",
        "\n",
        "while i<=10:\n",
        "    print(i)\n",
        "    i+=1"
      ],
      "metadata": {
        "colab": {
          "base_uri": "https://localhost:8080/"
        },
        "id": "ep-4v7d-nREE",
        "outputId": "10aacaa3-c454-4bde-c44f-db6878c75c6b"
      },
      "execution_count": null,
      "outputs": [
        {
          "output_type": "stream",
          "name": "stdout",
          "text": [
            "0\n",
            "1\n",
            "2\n",
            "3\n",
            "4\n",
            "5\n",
            "6\n",
            "7\n",
            "8\n",
            "9\n",
            "10\n"
          ]
        }
      ]
    },
    {
      "cell_type": "code",
      "source": [
        "first= times[0]\n",
        "minutes, rest=first.split(\":\")\n",
        "seconds, hundredths= rest.split(\".\")\n",
        "converted_time=(int(minutes)*60*100) + (int(seconds)*100)+ int(hundredths)\n",
        "print (converted_time)#"
      ],
      "metadata": {
        "colab": {
          "base_uri": "https://localhost:8080/",
          "height": 262
        },
        "id": "06Jnt8z2n300",
        "outputId": "3c547f9d-6d53-4c24-a6df-157f6691ce3e"
      },
      "execution_count": null,
      "outputs": [
        {
          "output_type": "error",
          "ename": "NameError",
          "evalue": "ignored",
          "traceback": [
            "\u001b[0;31m---------------------------------------------------------------------------\u001b[0m",
            "\u001b[0;31mNameError\u001b[0m                                 Traceback (most recent call last)",
            "\u001b[0;32m<ipython-input-38-7665ae11754b>\u001b[0m in \u001b[0;36m<cell line: 1>\u001b[0;34m()\u001b[0m\n\u001b[0;32m----> 1\u001b[0;31m \u001b[0mfirst\u001b[0m\u001b[0;34m=\u001b[0m \u001b[0mtimes\u001b[0m\u001b[0;34m[\u001b[0m\u001b[0;36m0\u001b[0m\u001b[0;34m]\u001b[0m\u001b[0;34m\u001b[0m\u001b[0;34m\u001b[0m\u001b[0m\n\u001b[0m\u001b[1;32m      2\u001b[0m \u001b[0mminutes\u001b[0m\u001b[0;34m,\u001b[0m \u001b[0mrest\u001b[0m\u001b[0;34m=\u001b[0m\u001b[0mfirst\u001b[0m\u001b[0;34m.\u001b[0m\u001b[0msplit\u001b[0m\u001b[0;34m(\u001b[0m\u001b[0;34m\":\"\u001b[0m\u001b[0;34m)\u001b[0m\u001b[0;34m\u001b[0m\u001b[0;34m\u001b[0m\u001b[0m\n\u001b[1;32m      3\u001b[0m \u001b[0mseconds\u001b[0m\u001b[0;34m,\u001b[0m \u001b[0mhundredths\u001b[0m\u001b[0;34m=\u001b[0m \u001b[0mrest\u001b[0m\u001b[0;34m.\u001b[0m\u001b[0msplit\u001b[0m\u001b[0;34m(\u001b[0m\u001b[0;34m\".\"\u001b[0m\u001b[0;34m)\u001b[0m\u001b[0;34m\u001b[0m\u001b[0;34m\u001b[0m\u001b[0m\n\u001b[1;32m      4\u001b[0m \u001b[0mconverted_time\u001b[0m\u001b[0;34m=\u001b[0m\u001b[0;34m(\u001b[0m\u001b[0mint\u001b[0m\u001b[0;34m(\u001b[0m\u001b[0mminutes\u001b[0m\u001b[0;34m)\u001b[0m\u001b[0;34m*\u001b[0m\u001b[0;36m60\u001b[0m\u001b[0;34m*\u001b[0m\u001b[0;36m100\u001b[0m\u001b[0;34m)\u001b[0m \u001b[0;34m+\u001b[0m \u001b[0;34m(\u001b[0m\u001b[0mint\u001b[0m\u001b[0;34m(\u001b[0m\u001b[0mseconds\u001b[0m\u001b[0;34m)\u001b[0m\u001b[0;34m*\u001b[0m\u001b[0;36m100\u001b[0m\u001b[0;34m)\u001b[0m\u001b[0;34m+\u001b[0m \u001b[0mint\u001b[0m\u001b[0;34m(\u001b[0m\u001b[0mhundredths\u001b[0m\u001b[0;34m)\u001b[0m\u001b[0;34m\u001b[0m\u001b[0;34m\u001b[0m\u001b[0m\n\u001b[1;32m      5\u001b[0m \u001b[0mprint\u001b[0m \u001b[0;34m(\u001b[0m\u001b[0mconverted_time\u001b[0m\u001b[0;34m)\u001b[0m\u001b[0;31m#\u001b[0m\u001b[0;34m\u001b[0m\u001b[0;34m\u001b[0m\u001b[0m\n",
            "\u001b[0;31mNameError\u001b[0m: name 'times' is not defined"
          ]
        }
      ]
    },
    {
      "cell_type": "code",
      "source": [
        "i=0\n",
        "while i< 10:\n",
        "    print(i)\n",
        "    i=i+1\n",
        "\n",
        "\n"
      ],
      "metadata": {
        "colab": {
          "base_uri": "https://localhost:8080/"
        },
        "id": "j6MwaXtwxIRL",
        "outputId": "fcdad406-dc27-4714-f5c0-698f50edbcae"
      },
      "execution_count": null,
      "outputs": [
        {
          "output_type": "stream",
          "name": "stdout",
          "text": [
            "0\n",
            "1\n",
            "2\n",
            "3\n",
            "4\n",
            "5\n",
            "6\n",
            "7\n",
            "8\n",
            "9\n"
          ]
        }
      ]
    },
    {
      "cell_type": "code",
      "source": [
        "hairs=['brown','blond','red']\n",
        "eyes=['brown','blue','green']\n",
        "weight=[1,2,3,4]"
      ],
      "metadata": {
        "id": "ceRNGT5MgTKj"
      },
      "execution_count": null,
      "outputs": []
    },
    {
      "cell_type": "code",
      "source": [],
      "metadata": {
        "id": "ZqxdHVFjj9w2"
      },
      "execution_count": null,
      "outputs": []
    },
    {
      "cell_type": "code",
      "source": [
        "for i in range(5):\n",
        "    print(i)"
      ],
      "metadata": {
        "colab": {
          "base_uri": "https://localhost:8080/"
        },
        "id": "uy0S0pAKjS95",
        "outputId": "1d970b3f-4d63-4967-f361-4113f9782520"
      },
      "execution_count": 4,
      "outputs": [
        {
          "output_type": "stream",
          "name": "stdout",
          "text": [
            "0\n",
            "1\n",
            "2\n",
            "3\n",
            "4\n"
          ]
        }
      ]
    },
    {
      "cell_type": "code",
      "source": [
        "i=[1,2,3,4,5]\n",
        "for n in i:\n",
        "    print(n)"
      ],
      "metadata": {
        "colab": {
          "base_uri": "https://localhost:8080/"
        },
        "id": "EVFnwKBLjhsp",
        "outputId": "89ae631f-060a-4cae-b7d2-accd6919b83b"
      },
      "execution_count": 5,
      "outputs": [
        {
          "output_type": "stream",
          "name": "stdout",
          "text": [
            "1\n",
            "2\n",
            "3\n",
            "4\n",
            "5\n"
          ]
        }
      ]
    },
    {
      "cell_type": "code",
      "source": [
        "the_count=[1,2,3,4,5]\n",
        "fruits=['apples','orange','pears','apricots']\n",
        "change=[1,'pennies',2,'dimes','quaters']\n",
        "\n",
        "for number in the_count:\n",
        "    print(f'this is count {number}')\n",
        "\n",
        "for fruit in fruits:\n",
        "    print(f\"A fruit of type: {fruit}\")\n",
        "\n",
        "for i in change:\n",
        "    print(f'i got {i}')\n",
        "\n",
        "print (f\"for {the_count} I got {fruits} and I got the {change}\")\n",
        "\n",
        "element=[]\n",
        "for i in range (6):\n",
        "    print(f\"Adding {i} to the list\")\n",
        "    element.append(i)\n",
        "\n",
        "for i in element:\n",
        "    print(f\"element was {i} \")\n"
      ],
      "metadata": {
        "colab": {
          "base_uri": "https://localhost:8080/"
        },
        "id": "0yyGnYgGh4oW",
        "outputId": "d0e45c15-d80b-4472-905a-deb681ace655"
      },
      "execution_count": 18,
      "outputs": [
        {
          "output_type": "stream",
          "name": "stdout",
          "text": [
            "this is count 1\n",
            "this is count 2\n",
            "this is count 3\n",
            "this is count 4\n",
            "this is count 5\n",
            "A fruit of type: apples\n",
            "A fruit of type: orange\n",
            "A fruit of type: pears\n",
            "A fruit of type: apricots\n",
            "i got 1\n",
            "i got pennies\n",
            "i got 2\n",
            "i got dimes\n",
            "i got quaters\n",
            "for [1, 2, 3, 4, 5] I got ['apples', 'orange', 'pears', 'apricots'] and I got the [1, 'pennies', 2, 'dimes', 'quaters']\n",
            "Adding 0 to the list\n",
            "Adding 1 to the list\n",
            "Adding 2 to the list\n",
            "Adding 3 to the list\n",
            "Adding 4 to the list\n",
            "Adding 5 to the list\n",
            "element was 0 \n",
            "element was 1 \n",
            "element was 2 \n",
            "element was 3 \n",
            "element was 4 \n",
            "element was 5 \n"
          ]
        }
      ]
    },
    {
      "cell_type": "code",
      "source": [
        "element=[]\n",
        "for i in range (6):\n",
        "    print(f\"Adding {i} to the list\")\n",
        "    element.append(i)\n",
        "\n",
        "for i in element:\n",
        "    print(f\"element was {i} \")"
      ],
      "metadata": {
        "colab": {
          "base_uri": "https://localhost:8080/"
        },
        "id": "dNhJ2p_Ajyod",
        "outputId": "1b2c3065-ed28-47bc-e830-c3c11a5e9a71"
      },
      "execution_count": 19,
      "outputs": [
        {
          "output_type": "stream",
          "name": "stdout",
          "text": [
            "Adding 0 to the list\n",
            "Adding 1 to the list\n",
            "Adding 2 to the list\n",
            "Adding 3 to the list\n",
            "Adding 4 to the list\n",
            "Adding 5 to the list\n",
            "element was 0 \n",
            "element was 1 \n",
            "element was 2 \n",
            "element was 3 \n",
            "element was 4 \n",
            "element was 5 \n"
          ]
        }
      ]
    },
    {
      "cell_type": "code",
      "source": [
        "for element in range(6):\n",
        "    print(f\"this element is {element} \")"
      ],
      "metadata": {
        "colab": {
          "base_uri": "https://localhost:8080/"
        },
        "id": "SgfirW_MtQGn",
        "outputId": "1f3a7001-be7f-4521-8b7a-7abf26bb38e3"
      },
      "execution_count": 20,
      "outputs": [
        {
          "output_type": "stream",
          "name": "stdout",
          "text": [
            "this element is 0 \n",
            "this element is 1 \n",
            "this element is 2 \n",
            "this element is 3 \n",
            "this element is 4 \n",
            "this element is 5 \n"
          ]
        }
      ]
    },
    {
      "cell_type": "code",
      "source": [
        "for element in range(6):\n",
        "    print(\"this element is\", element )"
      ],
      "metadata": {
        "colab": {
          "base_uri": "https://localhost:8080/"
        },
        "id": "ipnXnRd8v5n-",
        "outputId": "3e6b7aff-655a-4f06-d465-1e20c9030b0b"
      },
      "execution_count": 21,
      "outputs": [
        {
          "output_type": "stream",
          "name": "stdout",
          "text": [
            "this element is 0\n",
            "this element is 1\n",
            "this element is 2\n",
            "this element is 3\n",
            "this element is 4\n",
            "this element is 5\n"
          ]
        }
      ]
    },
    {
      "cell_type": "code",
      "source": [
        "i=0\n",
        "number=[]\n",
        "\n",
        "while i<6:\n",
        "    print(f\"At the top i is {i}\")\n",
        "    number.append(i)\n",
        "    i=i+1\n",
        "    print ('Number now : ', number)\n",
        "    print(number)\n",
        "for num in number:\n",
        "    print(num)"
      ],
      "metadata": {
        "colab": {
          "base_uri": "https://localhost:8080/"
        },
        "id": "RoFOp61ku_ak",
        "outputId": "3b6d299d-98e6-4bb2-98b8-a3b8e17d907f"
      },
      "execution_count": 28,
      "outputs": [
        {
          "output_type": "stream",
          "name": "stdout",
          "text": [
            "At the top i is 0\n",
            "Number now :  [0]\n",
            "[0]\n",
            "At the top i is 1\n",
            "Number now :  [0, 1]\n",
            "[0, 1]\n",
            "At the top i is 2\n",
            "Number now :  [0, 1, 2]\n",
            "[0, 1, 2]\n",
            "At the top i is 3\n",
            "Number now :  [0, 1, 2, 3]\n",
            "[0, 1, 2, 3]\n",
            "At the top i is 4\n",
            "Number now :  [0, 1, 2, 3, 4]\n",
            "[0, 1, 2, 3, 4]\n",
            "At the top i is 5\n",
            "Number now :  [0, 1, 2, 3, 4, 5]\n",
            "[0, 1, 2, 3, 4, 5]\n",
            "0\n",
            "1\n",
            "2\n",
            "3\n",
            "4\n",
            "5\n"
          ]
        }
      ]
    },
    {
      "cell_type": "code",
      "source": [
        "i=0\n",
        "number=[]\n",
        "\n",
        "while i<6:\n",
        "    print(f\"At the top i is {i}\")\n",
        "    number.append(i)\n",
        "    i=i+1\n",
        "    print ('Number now : ', number)\n",
        "    print(f\"At the bottom i is {i}\")\n",
        "for num in number:\n",
        "    print(num)"
      ],
      "metadata": {
        "colab": {
          "base_uri": "https://localhost:8080/"
        },
        "id": "Wysz-QgEx_RD",
        "outputId": "e49ca2cb-863d-44aa-9d89-9084b2fe77ec"
      },
      "execution_count": 29,
      "outputs": [
        {
          "output_type": "stream",
          "name": "stdout",
          "text": [
            "At the top i is 0\n",
            "Number now :  [0]\n",
            "At the bottom i is 1\n",
            "At the top i is 1\n",
            "Number now :  [0, 1]\n",
            "At the bottom i is 2\n",
            "At the top i is 2\n",
            "Number now :  [0, 1, 2]\n",
            "At the bottom i is 3\n",
            "At the top i is 3\n",
            "Number now :  [0, 1, 2, 3]\n",
            "At the bottom i is 4\n",
            "At the top i is 4\n",
            "Number now :  [0, 1, 2, 3, 4]\n",
            "At the bottom i is 5\n",
            "At the top i is 5\n",
            "Number now :  [0, 1, 2, 3, 4, 5]\n",
            "At the bottom i is 6\n",
            "0\n",
            "1\n",
            "2\n",
            "3\n",
            "4\n",
            "5\n"
          ]
        }
      ]
    },
    {
      "cell_type": "code",
      "source": [
        "print(number)"
      ],
      "metadata": {
        "colab": {
          "base_uri": "https://localhost:8080/"
        },
        "id": "Ige2acLrxALj",
        "outputId": "30e5b9dc-f044-40ba-fe40-827ef9a26cb2"
      },
      "execution_count": 24,
      "outputs": [
        {
          "output_type": "stream",
          "name": "stdout",
          "text": [
            "[0, 1, 2, 3, 4, 5]\n"
          ]
        }
      ]
    },
    {
      "cell_type": "code",
      "source": [
        " #rectancle with 10 rows and 20 column size\n",
        "for i in range (10):\n",
        "  for j in range (20):\n",
        "    print ('^', end=' ')\n",
        "  print(' ')"
      ],
      "metadata": {
        "colab": {
          "base_uri": "https://localhost:8080/"
        },
        "id": "Yihku5etxF-U",
        "outputId": "6e4bb624-5ff4-48c0-97e0-71e25b98c5dd"
      },
      "execution_count": 30,
      "outputs": [
        {
          "output_type": "stream",
          "name": "stdout",
          "text": [
            "^ ^ ^ ^ ^ ^ ^ ^ ^ ^ ^ ^ ^ ^ ^ ^ ^ ^ ^ ^  \n",
            "^ ^ ^ ^ ^ ^ ^ ^ ^ ^ ^ ^ ^ ^ ^ ^ ^ ^ ^ ^  \n",
            "^ ^ ^ ^ ^ ^ ^ ^ ^ ^ ^ ^ ^ ^ ^ ^ ^ ^ ^ ^  \n",
            "^ ^ ^ ^ ^ ^ ^ ^ ^ ^ ^ ^ ^ ^ ^ ^ ^ ^ ^ ^  \n",
            "^ ^ ^ ^ ^ ^ ^ ^ ^ ^ ^ ^ ^ ^ ^ ^ ^ ^ ^ ^  \n",
            "^ ^ ^ ^ ^ ^ ^ ^ ^ ^ ^ ^ ^ ^ ^ ^ ^ ^ ^ ^  \n",
            "^ ^ ^ ^ ^ ^ ^ ^ ^ ^ ^ ^ ^ ^ ^ ^ ^ ^ ^ ^  \n",
            "^ ^ ^ ^ ^ ^ ^ ^ ^ ^ ^ ^ ^ ^ ^ ^ ^ ^ ^ ^  \n",
            "^ ^ ^ ^ ^ ^ ^ ^ ^ ^ ^ ^ ^ ^ ^ ^ ^ ^ ^ ^  \n",
            "^ ^ ^ ^ ^ ^ ^ ^ ^ ^ ^ ^ ^ ^ ^ ^ ^ ^ ^ ^  \n"
          ]
        }
      ]
    },
    {
      "cell_type": "code",
      "source": [
        "x=5\n",
        "\n",
        "for y in range(1,(x+1)):\n",
        "    print('*'*y)\n",
        "\n",
        ""
      ],
      "metadata": {
        "colab": {
          "base_uri": "https://localhost:8080/"
        },
        "id": "5AyDgr591G2L",
        "outputId": "ee5c1bdb-e260-4e50-f000-0f3a55b955df"
      },
      "execution_count": 5,
      "outputs": [
        {
          "output_type": "stream",
          "name": "stdout",
          "text": [
            "*\n",
            "**\n",
            "***\n",
            "****\n",
            "*****\n"
          ]
        }
      ]
    },
    {
      "cell_type": "code",
      "source": [
        "x=5\n",
        "y=x+1\n",
        "\n",
        "for y in range(6):\n",
        "    print('*'*y,'')"
      ],
      "metadata": {
        "colab": {
          "base_uri": "https://localhost:8080/"
        },
        "id": "Q4-gVAysTGoB",
        "outputId": "59b95b83-28a7-4ed2-d7c2-4d9c17156b6b"
      },
      "execution_count": 12,
      "outputs": [
        {
          "output_type": "stream",
          "name": "stdout",
          "text": [
            " \n",
            "* \n",
            "** \n",
            "*** \n",
            "**** \n",
            "***** \n"
          ]
        }
      ]
    },
    {
      "cell_type": "code",
      "source": [
        "rows=3\n",
        "colms=10\n",
        "\n",
        "for i in range(rows):\n",
        "    print('*'*colms, end=' ')\n",
        "\n",
        ""
      ],
      "metadata": {
        "colab": {
          "base_uri": "https://localhost:8080/"
        },
        "id": "6X4AvzjITw0R",
        "outputId": "da178be4-2655-452d-dfbe-6b594a10cc5f"
      },
      "execution_count": 24,
      "outputs": [
        {
          "output_type": "stream",
          "name": "stdout",
          "text": [
            "********** *** ********** *** ********** *** "
          ]
        }
      ]
    },
    {
      "cell_type": "code",
      "source": [
        "rows=5\n",
        "colm=5\n",
        "\n",
        "for row in range(rows):\n",
        "    print(2*('*'*colm, '*'* rows))"
      ],
      "metadata": {
        "colab": {
          "base_uri": "https://localhost:8080/"
        },
        "id": "zU-6E_bVYsbN",
        "outputId": "0fe43c12-838c-4f1a-c732-542487109421"
      },
      "execution_count": 26,
      "outputs": [
        {
          "output_type": "stream",
          "name": "stdout",
          "text": [
            "('*****', '*****', '*****', '*****')\n",
            "('*****', '*****', '*****', '*****')\n",
            "('*****', '*****', '*****', '*****')\n",
            "('*****', '*****', '*****', '*****')\n",
            "('*****', '*****', '*****', '*****')\n"
          ]
        }
      ]
    },
    {
      "cell_type": "code",
      "source": [
        "rows=5\n",
        "colm=5\n",
        "\n",
        "for x in range(rows, colm):\n",
        "    print('*'*x)"
      ],
      "metadata": {
        "id": "pF4FGruYZo1y"
      },
      "execution_count": 35,
      "outputs": []
    },
    {
      "cell_type": "code",
      "source": [
        "3!=4\n",
        "not(\"testing\" !=\"test\" or \"python\"==\"python\")"
      ],
      "metadata": {
        "colab": {
          "base_uri": "https://localhost:8080/"
        },
        "id": "yS7Go4ONbYOx",
        "outputId": "5786fe45-4be1-43a5-ed7e-86acf3bc7e35"
      },
      "execution_count": 37,
      "outputs": [
        {
          "output_type": "execute_result",
          "data": {
            "text/plain": [
              "False"
            ]
          },
          "metadata": {},
          "execution_count": 37
        }
      ]
    },
    {
      "cell_type": "code",
      "source": [
        "w='this is one'\n",
        "r= 'this is two'\n",
        "\n",
        "print(f\"{w} and { r} \")"
      ],
      "metadata": {
        "colab": {
          "base_uri": "https://localhost:8080/"
        },
        "id": "Bts2-qHDm9_7",
        "outputId": "c7faa294-7173-49cf-bbd4-a5e6ebb7cc4b"
      },
      "execution_count": 41,
      "outputs": [
        {
          "output_type": "stream",
          "name": "stdout",
          "text": [
            "this is one and this is two \n"
          ]
        }
      ]
    }
  ]
}